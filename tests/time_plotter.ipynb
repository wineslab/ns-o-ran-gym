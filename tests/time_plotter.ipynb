{
 "cells": [
  {
   "cell_type": "code",
   "execution_count": 34,
   "metadata": {},
   "outputs": [],
   "source": [
    "import pandas as pd\n",
    "import seaborn as sns\n",
    "import matplotlib\n",
    "import matplotlib.pyplot as plt\n",
    "\n",
    "matplotlib.use(\"pgf\")\n",
    "\n",
    "fontsize = 16\n",
    "\n",
    "matplotlib.rcParams.update({\n",
    "    \"pgf.texsystem\":   \"pdflatex\", # or any other engine you want to use\n",
    "    \"text.usetex\":     True,       # use TeX for all texts\n",
    "    \"axes.labelsize\":  fontsize,\n",
    "    \"legend.fontsize\": fontsize,\n",
    "    \"xtick.labelsize\": fontsize,\n",
    "    \"ytick.labelsize\": fontsize,\n",
    "    \"font.family\": \"helvetica\"\n",
    "})\n",
    "\n",
    "    #     \"pgf.preamble\": [              # specify additional preamble calls for LaTeX's run\n",
    "    #     r\"\\usepackage[T1]{fontenc}\",\n",
    "    #     r\"\\usepackage{siunitx}\",\n",
    "    # ]\n",
    "    # \"font.serif\":      [],         # empty entries should cause the usage of the document fonts\n",
    "    # \"font.sans-serif\": [],\n",
    "    # \"font.monospace\":  [],\n",
    "    # \"font.size\":       10,         # control font sizes of different elements\n",
    "\n",
    "\n",
    "\n",
    "pd.set_option('display.max_columns', None)\n",
    "pd.set_option('display.max_rows', None)\n",
    "\n",
    "sns.set_theme(rc={'figure.figsize':(12,6)})"
   ]
  },
  {
   "cell_type": "markdown",
   "metadata": {},
   "source": [
    "#### Load dataset"
   ]
  },
  {
   "cell_type": "code",
   "execution_count": 35,
   "metadata": {},
   "outputs": [],
   "source": [
    "df: pd.DataFrame = pd.read_csv('./time.csv')\n",
    "df.sort_values('UEs', inplace=True)\n",
    "df['Time'] = df['Time'] / 1e9 /60\n",
    "df['Overhead'] = df['Overhead'] / 1e9 # /60\n",
    "\n",
    "label_dict = {\n",
    "    0: 'Full buffer',\n",
    "    1: 'Half Full / Half Bursty',\n",
    "    2: 'Bursty',\n",
    "    3: 'Mixed', #  0.25 full buffer, 0.25 bursty 3Mbps, 0.25 bursty 0.75Mbps, 0.25 bursty 0.15Mbps\n",
    "}"
   ]
  },
  {
   "cell_type": "code",
   "execution_count": 36,
   "metadata": {},
   "outputs": [],
   "source": [
    "fig, ax = plt.subplots()\n",
    "\n",
    "for traffic_model in df['TrafficModel'].unique():\n",
    "    subset = df[df['TrafficModel'] == traffic_model]\n",
    "    ax.plot(subset['UEs'], subset['Time'], marker='o', label=label_dict[traffic_model])\n",
    "\n",
    "ax.set_xlabel('Number of UEs per cell', fontsize=fontsize)\n",
    "ax.set_ylabel('Time (mins)', fontsize=fontsize)\n",
    "ax.xaxis.set_tick_params(labelsize=fontsize)\n",
    "ax.yaxis.set_tick_params(labelsize=fontsize)\n",
    "ax.legend(fontsize=fontsize)\n",
    "\n",
    "# plt.show()\n",
    "fig.savefig(\"time.pdf\", bbox_inches='tight')\n",
    "fig.savefig(\"time.pgf\", bbox_inches='tight')"
   ]
  },
  {
   "cell_type": "code",
   "execution_count": 37,
   "metadata": {},
   "outputs": [],
   "source": [
    "fig, ax = plt.subplots()\n",
    "\n",
    "# for traffic_model in df['TrafficModel'].unique():\n",
    "#     subset = df[df['TrafficModel'] == traffic_model]\n",
    "#     ax.plot(subset['UEs'], subset['Time'], marker='o', label=label_dict[traffic_model])\n",
    "\n",
    "for traffic_model in df['TrafficModel'].unique():\n",
    "    subset = df[df['TrafficModel'] == traffic_model]\n",
    "    ax.plot(subset['UEs'], subset['Overhead'], marker='x', linestyle='--', label=f'{label_dict[traffic_model]}') # - Overhead\n",
    "\n",
    "# ax.set(yscale='log')\n",
    "ax.set_xlabel('Number of UEs per cell', fontsize=fontsize)\n",
    "ax.set_ylabel('Time (ms)', fontsize=fontsize)\n",
    "ax.xaxis.set_tick_params(labelsize=fontsize)\n",
    "ax.yaxis.set_tick_params(labelsize=fontsize)\n",
    "ax.legend(fontsize=fontsize)\n",
    "\n",
    "# plt.show()\n",
    "fig.savefig(\"overhead.pdf\", bbox_inches='tight')\n",
    "fig.savefig(\"overhead.pgf\", bbox_inches='tight')"
   ]
  }
 ],
 "metadata": {
  "kernelspec": {
   "display_name": "Python 3",
   "language": "python",
   "name": "python3"
  },
  "language_info": {
   "codemirror_mode": {
    "name": "ipython",
    "version": 3
   },
   "file_extension": ".py",
   "mimetype": "text/x-python",
   "name": "python",
   "nbconvert_exporter": "python",
   "pygments_lexer": "ipython3",
   "version": "3.10.12"
  }
 },
 "nbformat": 4,
 "nbformat_minor": 2
}
